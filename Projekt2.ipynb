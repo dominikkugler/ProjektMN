{
 "cells": [
  {
   "cell_type": "code",
   "execution_count": 1,
   "metadata": {},
   "outputs": [],
   "source": [
    "import os \n",
    "import numpy as np \n",
    "from PIL import Image \n",
    "\n",
    "import matplotlib.pyplot as plt \n",
    "\n",
    "import torch \n",
    "import torchvision"
   ]
  },
  {
   "cell_type": "code",
   "execution_count": 2,
   "metadata": {},
   "outputs": [],
   "source": [
    "class ImageDataset(torch.utils.data.Dataset): \n",
    "    def init(self, dir, transform=None): \n",
    "        self.data_dir = dir\n",
    "        self.images = os.listdir(dir) \n",
    "        self.transform = transform\n",
    "    def len(self): \n",
    "        return len(self.images)\n",
    "    def getitem(self, index): \n",
    "        image_path = os.path.join(self.data_dir, self.images[index]) \n",
    "        image = np.array(Image.open(image_path))\n",
    "        if self.transform: \n",
    "            image = self.transform(image) \n",
    "        return image "
   ]
  },
  {
   "cell_type": "code",
   "execution_count": 6,
   "metadata": {},
   "outputs": [
    {
     "ename": "TypeError",
     "evalue": "ImageDataset() takes no arguments",
     "output_type": "error",
     "traceback": [
      "\u001b[1;31m---------------------------------------------------------------------------\u001b[0m",
      "\u001b[1;31mTypeError\u001b[0m                                 Traceback (most recent call last)",
      "Cell \u001b[1;32mIn[6], line 8\u001b[0m\n\u001b[0;32m      5\u001b[0m data_path \u001b[38;5;241m=\u001b[39m \u001b[38;5;124m'\u001b[39m\u001b[38;5;124m./tmp_png/0031716148d092ba6a6a5de4b9eefee2.png\u001b[39m\u001b[38;5;124m'\u001b[39m\n\u001b[0;32m      7\u001b[0m \u001b[38;5;66;03m# Creating a dataset object with the path to the dataset \u001b[39;00m\n\u001b[1;32m----> 8\u001b[0m dataset \u001b[38;5;241m=\u001b[39m \u001b[43mImageDataset\u001b[49m\u001b[43m(\u001b[49m\u001b[43mdata_path\u001b[49m\u001b[43m)\u001b[49m \n\u001b[0;32m     10\u001b[0m \u001b[38;5;66;03m# Getting the length of the dataset \u001b[39;00m\n\u001b[0;32m     11\u001b[0m dataset_length \u001b[38;5;241m=\u001b[39m \u001b[38;5;28mlen\u001b[39m(dataset) \n",
      "\u001b[1;31mTypeError\u001b[0m: ImageDataset() takes no arguments"
     ]
    }
   ],
   "source": [
    "# Replace the path with the path to your dataset \n",
    "import random\n",
    "\n",
    "\n",
    "data_path = './tmp_png/0031716148d092ba6a6a5de4b9eefee2.png'\n",
    "\n",
    "# Creating a dataset object with the path to the dataset \n",
    "dataset = ImageDataset(data_path) \n",
    "\n",
    "# Getting the length of the dataset \n",
    "dataset_length = len(dataset) \n",
    "\n",
    "# Printing the length of the dataset \n",
    "print('Number of training examples:',dataset_length) \n",
    "\n",
    "# Generating a random index within the dataset length \n",
    "random_index = random.randint(0, dataset_length - 1) \n",
    "\n",
    "# Plotting the randomly selected image \n",
    "plt.imshow(dataset[random_index]) \n",
    "plt.show()\n"
   ]
  }
 ],
 "metadata": {
  "kernelspec": {
   "display_name": "Python 3",
   "language": "python",
   "name": "python3"
  },
  "language_info": {
   "codemirror_mode": {
    "name": "ipython",
    "version": 3
   },
   "file_extension": ".py",
   "mimetype": "text/x-python",
   "name": "python",
   "nbconvert_exporter": "python",
   "pygments_lexer": "ipython3",
   "version": "3.11.7"
  }
 },
 "nbformat": 4,
 "nbformat_minor": 2
}
